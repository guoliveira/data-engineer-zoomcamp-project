{
 "cells": [
  {
   "cell_type": "code",
   "execution_count": 9,
   "id": "3b9b3181",
   "metadata": {},
   "outputs": [],
   "source": [
    "import pandas as pd\n",
    "import timeit\n",
    "import polars as pl"
   ]
  },
  {
   "cell_type": "code",
   "execution_count": 2,
   "id": "022407f3",
   "metadata": {},
   "outputs": [
    {
     "data": {
      "text/plain": [
       "'2.0.0rc0'"
      ]
     },
     "execution_count": 2,
     "metadata": {},
     "output_type": "execute_result"
    }
   ],
   "source": [
    "pd.__version__"
   ]
  },
  {
   "cell_type": "code",
   "execution_count": 8,
   "id": "53713518",
   "metadata": {},
   "outputs": [],
   "source": [
    "def pd_read_csv():\n",
    "    df= pd.read_csv(\"yellow_tripdata_2021-01.csv.gz\")\n",
    "    return df"
   ]
  },
  {
   "cell_type": "code",
   "execution_count": null,
   "id": "54384838",
   "metadata": {},
   "outputs": [
    {
     "name": "stderr",
     "output_type": "stream",
     "text": [
      "/tmp/ipykernel_13205/2121035349.py:2: DtypeWarning: Columns (6) have mixed types. Specify dtype option on import or set low_memory=False.\n",
      "  df= pd.read_csv(\"yellow_tripdata_2021-01.csv.gz\")\n"
     ]
    }
   ],
   "source": [
    "print(\"Pandas 1.5.3:\", timeit.timeit(pd_read_csv, number=10))"
   ]
  },
  {
   "cell_type": "code",
   "execution_count": 2,
   "id": "e9192c4f",
   "metadata": {},
   "outputs": [],
   "source": [
    "def pl_read_csv():\n",
    "    df= pl.read_csv(\"yellow_tripdata_2021-01.csv.gz\")\n",
    "    return df"
   ]
  },
  {
   "cell_type": "code",
   "execution_count": 3,
   "id": "78c6b884",
   "metadata": {},
   "outputs": [
    {
     "name": "stdout",
     "output_type": "stream",
     "text": [
      "Polars: 16.227845715000512\n"
     ]
    }
   ],
   "source": [
    "print(\"Polars:\", timeit.timeit(pl_read_csv, number=10))"
   ]
  },
  {
   "cell_type": "code",
   "execution_count": 4,
   "id": "aeff3f1d",
   "metadata": {},
   "outputs": [],
   "source": [
    "df_pl = pl_read_csv()"
   ]
  },
  {
   "cell_type": "code",
   "execution_count": 5,
   "id": "e0c40be0",
   "metadata": {},
   "outputs": [
    {
     "name": "stdout",
     "output_type": "stream",
     "text": [
      "shape: (1369765, 18)\n",
      "┌──────────┬────────────┬────────────┬────────────┬─────┬────────────┬────────────┬────────────┬────────────┐\n",
      "│ VendorID ┆ tpep_picku ┆ tpep_dropo ┆ passenger_ ┆ ... ┆ tolls_amou ┆ improvemen ┆ total_amou ┆ congestion │\n",
      "│ ---      ┆ p_datetime ┆ ff_datetim ┆ count      ┆     ┆ nt         ┆ t_surcharg ┆ nt         ┆ _surcharge │\n",
      "│ i64      ┆ ---        ┆ e          ┆ ---        ┆     ┆ ---        ┆ e          ┆ ---        ┆ ---        │\n",
      "│          ┆ str        ┆ ---        ┆ i64        ┆     ┆ f64        ┆ ---        ┆ f64        ┆ f64        │\n",
      "│          ┆            ┆ str        ┆            ┆     ┆            ┆ f64        ┆            ┆            │\n",
      "╞══════════╪════════════╪════════════╪════════════╪═════╪════════════╪════════════╪════════════╪════════════╡\n",
      "│ 1        ┆ 2021-01-01 ┆ 2021-01-01 ┆ 1          ┆ ... ┆ 0.0        ┆ 0.3        ┆ 11.8       ┆ 2.5        │\n",
      "│          ┆ 00:30:10   ┆ 00:36:12   ┆            ┆     ┆            ┆            ┆            ┆            │\n",
      "│ 1        ┆ 2021-01-01 ┆ 2021-01-01 ┆ 1          ┆ ... ┆ 0.0        ┆ 0.3        ┆ 4.3        ┆ 0.0        │\n",
      "│          ┆ 00:51:20   ┆ 00:52:19   ┆            ┆     ┆            ┆            ┆            ┆            │\n",
      "│ 1        ┆ 2021-01-01 ┆ 2021-01-01 ┆ 1          ┆ ... ┆ 0.0        ┆ 0.3        ┆ 51.95      ┆ 0.0        │\n",
      "│          ┆ 00:43:30   ┆ 01:11:06   ┆            ┆     ┆            ┆            ┆            ┆            │\n",
      "│ 1        ┆ 2021-01-01 ┆ 2021-01-01 ┆ 0          ┆ ... ┆ 0.0        ┆ 0.3        ┆ 36.35      ┆ 0.0        │\n",
      "│          ┆ 00:15:48   ┆ 00:31:01   ┆            ┆     ┆            ┆            ┆            ┆            │\n",
      "│ ...      ┆ ...        ┆ ...        ┆ ...        ┆ ... ┆ ...        ┆ ...        ┆ ...        ┆ ...        │\n",
      "│ null     ┆ 2021-01-25 ┆ 2021-01-25 ┆ null       ┆ ... ┆ 0.0        ┆ 0.3        ┆ 30.22      ┆ 0.0        │\n",
      "│          ┆ 08:34:00   ┆ 09:04:00   ┆            ┆     ┆            ┆            ┆            ┆            │\n",
      "│ null     ┆ 2021-01-25 ┆ 2021-01-25 ┆ null       ┆ ... ┆ 0.0        ┆ 0.3        ┆ 28.84      ┆ 0.0        │\n",
      "│          ┆ 08:37:00   ┆ 08:53:00   ┆            ┆     ┆            ┆            ┆            ┆            │\n",
      "│ null     ┆ 2021-01-25 ┆ 2021-01-25 ┆ null       ┆ ... ┆ 0.0        ┆ 0.3        ┆ 31.79      ┆ 0.0        │\n",
      "│          ┆ 08:28:00   ┆ 08:50:00   ┆            ┆     ┆            ┆            ┆            ┆            │\n",
      "│ null     ┆ 2021-01-25 ┆ 2021-01-25 ┆ null       ┆ ... ┆ 0.0        ┆ 0.3        ┆ 24.31      ┆ 0.0        │\n",
      "│          ┆ 08:38:00   ┆ 08:50:00   ┆            ┆     ┆            ┆            ┆            ┆            │\n",
      "└──────────┴────────────┴────────────┴────────────┴─────┴────────────┴────────────┴────────────┴────────────┘\n"
     ]
    }
   ],
   "source": [
    "print(df_pl)"
   ]
  },
  {
   "cell_type": "code",
   "execution_count": 3,
   "id": "90a267df",
   "metadata": {},
   "outputs": [
    {
     "name": "stdout",
     "output_type": "stream",
     "text": [
      "--2023-03-09 11:17:24--  https://d37ci6vzurychx.cloudfront.net/trip-data/yellow_tripdata_2021-01.parquet\n",
      "Resolving d37ci6vzurychx.cloudfront.net (d37ci6vzurychx.cloudfront.net)... 52.222.137.206, 52.222.137.56, 52.222.137.90, ...\n",
      "Connecting to d37ci6vzurychx.cloudfront.net (d37ci6vzurychx.cloudfront.net)|52.222.137.206|:443... connected.\n",
      "HTTP request sent, awaiting response... 200 OK\n",
      "Length: 21686067 (21M) [application/x-www-form-urlencoded]\n",
      "Saving to: ‘yellow_tripdata_2021-01.parquet’\n",
      "\n",
      "yellow_tripdata_202 100%[===================>]  20.68M  60.6MB/s    in 0.3s    \n",
      "\n",
      "2023-03-09 11:17:24 (60.6 MB/s) - ‘yellow_tripdata_2021-01.parquet’ saved [21686067/21686067]\n",
      "\n"
     ]
    }
   ],
   "source": [
    "!wget  https://d37ci6vzurychx.cloudfront.net/trip-data/yellow_tripdata_2021-01.parquet"
   ]
  },
  {
   "cell_type": "code",
   "execution_count": 3,
   "id": "f8e18905",
   "metadata": {},
   "outputs": [],
   "source": [
    "def pd_read_parquet():\n",
    "    df = pd.read_parquet(\"yellow_tripdata_2021-01.parquet\")\n",
    "    return df"
   ]
  },
  {
   "cell_type": "code",
   "execution_count": 4,
   "id": "2ab6594f",
   "metadata": {},
   "outputs": [
    {
     "name": "stdout",
     "output_type": "stream",
     "text": [
      "Pandas 2.0.0: 5.107276610999861\n"
     ]
    }
   ],
   "source": [
    "print(\"Pandas 2.0.0:\", timeit.timeit(pd_read_parquet, number=10))"
   ]
  },
  {
   "cell_type": "code",
   "execution_count": 10,
   "id": "bbcefa17",
   "metadata": {},
   "outputs": [],
   "source": [
    "def pl_read_parquet():\n",
    "    df = pl.read_parquet(\"yellow_tripdata_2021-01.parquet\")\n",
    "    return df"
   ]
  },
  {
   "cell_type": "code",
   "execution_count": 8,
   "id": "2452724b",
   "metadata": {},
   "outputs": [
    {
     "ename": "NameError",
     "evalue": "name 'pl' is not defined",
     "output_type": "error",
     "traceback": [
      "\u001b[0;31m---------------------------------------------------------------------------\u001b[0m",
      "\u001b[0;31mNameError\u001b[0m                                 Traceback (most recent call last)",
      "Cell \u001b[0;32mIn[8], line 1\u001b[0m\n\u001b[0;32m----> 1\u001b[0m \u001b[38;5;28mprint\u001b[39m(\u001b[38;5;124m\"\u001b[39m\u001b[38;5;124mPolars:\u001b[39m\u001b[38;5;124m\"\u001b[39m, \u001b[43mtimeit\u001b[49m\u001b[38;5;241;43m.\u001b[39;49m\u001b[43mtimeit\u001b[49m\u001b[43m(\u001b[49m\u001b[43mpl_read_parquet\u001b[49m\u001b[43m,\u001b[49m\u001b[43m \u001b[49m\u001b[43mnumber\u001b[49m\u001b[38;5;241;43m=\u001b[39;49m\u001b[38;5;241;43m10\u001b[39;49m\u001b[43m)\u001b[49m)\n",
      "File \u001b[0;32m/usr/local/python/3.10.4/lib/python3.10/timeit.py:234\u001b[0m, in \u001b[0;36mtimeit\u001b[0;34m(stmt, setup, timer, number, globals)\u001b[0m\n\u001b[1;32m    231\u001b[0m \u001b[38;5;28;01mdef\u001b[39;00m \u001b[38;5;21mtimeit\u001b[39m(stmt\u001b[38;5;241m=\u001b[39m\u001b[38;5;124m\"\u001b[39m\u001b[38;5;124mpass\u001b[39m\u001b[38;5;124m\"\u001b[39m, setup\u001b[38;5;241m=\u001b[39m\u001b[38;5;124m\"\u001b[39m\u001b[38;5;124mpass\u001b[39m\u001b[38;5;124m\"\u001b[39m, timer\u001b[38;5;241m=\u001b[39mdefault_timer,\n\u001b[1;32m    232\u001b[0m            number\u001b[38;5;241m=\u001b[39mdefault_number, \u001b[38;5;28mglobals\u001b[39m\u001b[38;5;241m=\u001b[39m\u001b[38;5;28;01mNone\u001b[39;00m):\n\u001b[1;32m    233\u001b[0m \u001b[38;5;250m    \u001b[39m\u001b[38;5;124;03m\"\"\"Convenience function to create Timer object and call timeit method.\"\"\"\u001b[39;00m\n\u001b[0;32m--> 234\u001b[0m     \u001b[38;5;28;01mreturn\u001b[39;00m \u001b[43mTimer\u001b[49m\u001b[43m(\u001b[49m\u001b[43mstmt\u001b[49m\u001b[43m,\u001b[49m\u001b[43m \u001b[49m\u001b[43msetup\u001b[49m\u001b[43m,\u001b[49m\u001b[43m \u001b[49m\u001b[43mtimer\u001b[49m\u001b[43m,\u001b[49m\u001b[43m \u001b[49m\u001b[38;5;28;43mglobals\u001b[39;49m\u001b[43m)\u001b[49m\u001b[38;5;241;43m.\u001b[39;49m\u001b[43mtimeit\u001b[49m\u001b[43m(\u001b[49m\u001b[43mnumber\u001b[49m\u001b[43m)\u001b[49m\n",
      "File \u001b[0;32m/usr/local/python/3.10.4/lib/python3.10/timeit.py:178\u001b[0m, in \u001b[0;36mTimer.timeit\u001b[0;34m(self, number)\u001b[0m\n\u001b[1;32m    176\u001b[0m gc\u001b[38;5;241m.\u001b[39mdisable()\n\u001b[1;32m    177\u001b[0m \u001b[38;5;28;01mtry\u001b[39;00m:\n\u001b[0;32m--> 178\u001b[0m     timing \u001b[38;5;241m=\u001b[39m \u001b[38;5;28;43mself\u001b[39;49m\u001b[38;5;241;43m.\u001b[39;49m\u001b[43minner\u001b[49m\u001b[43m(\u001b[49m\u001b[43mit\u001b[49m\u001b[43m,\u001b[49m\u001b[43m \u001b[49m\u001b[38;5;28;43mself\u001b[39;49m\u001b[38;5;241;43m.\u001b[39;49m\u001b[43mtimer\u001b[49m\u001b[43m)\u001b[49m\n\u001b[1;32m    179\u001b[0m \u001b[38;5;28;01mfinally\u001b[39;00m:\n\u001b[1;32m    180\u001b[0m     \u001b[38;5;28;01mif\u001b[39;00m gcold:\n",
      "File \u001b[0;32m<timeit-src>:6\u001b[0m, in \u001b[0;36minner\u001b[0;34m(_it, _timer, _stmt)\u001b[0m\n",
      "Cell \u001b[0;32mIn[7], line 2\u001b[0m, in \u001b[0;36mpl_read_parquet\u001b[0;34m()\u001b[0m\n\u001b[1;32m      1\u001b[0m \u001b[38;5;28;01mdef\u001b[39;00m \u001b[38;5;21mpl_read_parquet\u001b[39m():\n\u001b[0;32m----> 2\u001b[0m     df \u001b[38;5;241m=\u001b[39m \u001b[43mpl\u001b[49m\u001b[38;5;241m.\u001b[39mread_parquet(\u001b[38;5;124m\"\u001b[39m\u001b[38;5;124myellow_tripdata_2021-01.parquet\u001b[39m\u001b[38;5;124m\"\u001b[39m)\n\u001b[1;32m      3\u001b[0m     \u001b[38;5;28;01mreturn\u001b[39;00m df\n",
      "\u001b[0;31mNameError\u001b[0m: name 'pl' is not defined"
     ]
    }
   ],
   "source": [
    "print(\"Polars:\", timeit.timeit(pl_read_parquet, number=10))"
   ]
  },
  {
   "cell_type": "code",
   "execution_count": 5,
   "id": "e5ecaebe",
   "metadata": {},
   "outputs": [],
   "source": [
    "# Pandas    \n",
    "df_pd = pd_read_parquet()\n",
    "def mean_test_speed_pd():\n",
    "    manhattan_pd = df_pd[df_pd[\"PULocationID\"].isin([237, 236, 161, 162, 163, 164, 186])]\n",
    "    average_distance_pd = manhattan_pd[\"trip_distance\"].mean()\n",
    "    "
   ]
  },
  {
   "cell_type": "code",
   "execution_count": 11,
   "id": "8681d1a1",
   "metadata": {},
   "outputs": [],
   "source": [
    "# Polars\n",
    "df_pl = pl_read_parquet()\n",
    "def mean_test_speed_pl():\n",
    "    manhattan_pl = df_pl.filter(pl.col(['PULocationID'])==237)\n",
    "    average_distance_pl = manhattan_pl[\"trip_distance\"].mean()\n",
    "    print(average_distance_pl)"
   ]
  },
  {
   "cell_type": "code",
   "execution_count": 12,
   "id": "e1b73e80",
   "metadata": {},
   "outputs": [
    {
     "name": "stdout",
     "output_type": "stream",
     "text": [
      "Polars: 2.217062138000074\n"
     ]
    },
    {
     "ename": "AttributeError",
     "evalue": "'Expr' object has no attribute 'isin'",
     "output_type": "error",
     "traceback": [
      "\u001b[0;31m---------------------------------------------------------------------------\u001b[0m",
      "\u001b[0;31mAttributeError\u001b[0m                            Traceback (most recent call last)",
      "Cell \u001b[0;32mIn[12], line 2\u001b[0m\n\u001b[1;32m      1\u001b[0m \u001b[38;5;28mprint\u001b[39m(\u001b[38;5;124m\"\u001b[39m\u001b[38;5;124mPolars:\u001b[39m\u001b[38;5;124m\"\u001b[39m, timeit\u001b[38;5;241m.\u001b[39mtimeit(mean_test_speed_pd, number\u001b[38;5;241m=\u001b[39m\u001b[38;5;241m10\u001b[39m))\n\u001b[0;32m----> 2\u001b[0m \u001b[38;5;28mprint\u001b[39m(\u001b[38;5;124m\"\u001b[39m\u001b[38;5;124mPandas 2.0.0:\u001b[39m\u001b[38;5;124m\"\u001b[39m, \u001b[43mtimeit\u001b[49m\u001b[38;5;241;43m.\u001b[39;49m\u001b[43mtimeit\u001b[49m\u001b[43m(\u001b[49m\u001b[43mmean_test_speed_pl\u001b[49m\u001b[43m,\u001b[49m\u001b[43m \u001b[49m\u001b[43mnumber\u001b[49m\u001b[38;5;241;43m=\u001b[39;49m\u001b[38;5;241;43m10\u001b[39;49m\u001b[43m)\u001b[49m)\n",
      "File \u001b[0;32m/usr/local/python/3.10.4/lib/python3.10/timeit.py:234\u001b[0m, in \u001b[0;36mtimeit\u001b[0;34m(stmt, setup, timer, number, globals)\u001b[0m\n\u001b[1;32m    231\u001b[0m \u001b[38;5;28;01mdef\u001b[39;00m \u001b[38;5;21mtimeit\u001b[39m(stmt\u001b[38;5;241m=\u001b[39m\u001b[38;5;124m\"\u001b[39m\u001b[38;5;124mpass\u001b[39m\u001b[38;5;124m\"\u001b[39m, setup\u001b[38;5;241m=\u001b[39m\u001b[38;5;124m\"\u001b[39m\u001b[38;5;124mpass\u001b[39m\u001b[38;5;124m\"\u001b[39m, timer\u001b[38;5;241m=\u001b[39mdefault_timer,\n\u001b[1;32m    232\u001b[0m            number\u001b[38;5;241m=\u001b[39mdefault_number, \u001b[38;5;28mglobals\u001b[39m\u001b[38;5;241m=\u001b[39m\u001b[38;5;28;01mNone\u001b[39;00m):\n\u001b[1;32m    233\u001b[0m \u001b[38;5;250m    \u001b[39m\u001b[38;5;124;03m\"\"\"Convenience function to create Timer object and call timeit method.\"\"\"\u001b[39;00m\n\u001b[0;32m--> 234\u001b[0m     \u001b[38;5;28;01mreturn\u001b[39;00m \u001b[43mTimer\u001b[49m\u001b[43m(\u001b[49m\u001b[43mstmt\u001b[49m\u001b[43m,\u001b[49m\u001b[43m \u001b[49m\u001b[43msetup\u001b[49m\u001b[43m,\u001b[49m\u001b[43m \u001b[49m\u001b[43mtimer\u001b[49m\u001b[43m,\u001b[49m\u001b[43m \u001b[49m\u001b[38;5;28;43mglobals\u001b[39;49m\u001b[43m)\u001b[49m\u001b[38;5;241;43m.\u001b[39;49m\u001b[43mtimeit\u001b[49m\u001b[43m(\u001b[49m\u001b[43mnumber\u001b[49m\u001b[43m)\u001b[49m\n",
      "File \u001b[0;32m/usr/local/python/3.10.4/lib/python3.10/timeit.py:178\u001b[0m, in \u001b[0;36mTimer.timeit\u001b[0;34m(self, number)\u001b[0m\n\u001b[1;32m    176\u001b[0m gc\u001b[38;5;241m.\u001b[39mdisable()\n\u001b[1;32m    177\u001b[0m \u001b[38;5;28;01mtry\u001b[39;00m:\n\u001b[0;32m--> 178\u001b[0m     timing \u001b[38;5;241m=\u001b[39m \u001b[38;5;28;43mself\u001b[39;49m\u001b[38;5;241;43m.\u001b[39;49m\u001b[43minner\u001b[49m\u001b[43m(\u001b[49m\u001b[43mit\u001b[49m\u001b[43m,\u001b[49m\u001b[43m \u001b[49m\u001b[38;5;28;43mself\u001b[39;49m\u001b[38;5;241;43m.\u001b[39;49m\u001b[43mtimer\u001b[49m\u001b[43m)\u001b[49m\n\u001b[1;32m    179\u001b[0m \u001b[38;5;28;01mfinally\u001b[39;00m:\n\u001b[1;32m    180\u001b[0m     \u001b[38;5;28;01mif\u001b[39;00m gcold:\n",
      "File \u001b[0;32m<timeit-src>:6\u001b[0m, in \u001b[0;36minner\u001b[0;34m(_it, _timer, _stmt)\u001b[0m\n",
      "Cell \u001b[0;32mIn[11], line 4\u001b[0m, in \u001b[0;36mmean_test_speed_pl\u001b[0;34m()\u001b[0m\n\u001b[1;32m      3\u001b[0m \u001b[38;5;28;01mdef\u001b[39;00m \u001b[38;5;21mmean_test_speed_pl\u001b[39m():\n\u001b[0;32m----> 4\u001b[0m     manhattan_pl \u001b[38;5;241m=\u001b[39m df_pl\u001b[38;5;241m.\u001b[39mfilter(\u001b[43mpl\u001b[49m\u001b[38;5;241;43m.\u001b[39;49m\u001b[43mcol\u001b[49m\u001b[43m(\u001b[49m\u001b[38;5;124;43m\"\u001b[39;49m\u001b[38;5;124;43mPULocationID\u001b[39;49m\u001b[38;5;124;43m\"\u001b[39;49m\u001b[43m)\u001b[49m\u001b[38;5;241;43m.\u001b[39;49m\u001b[43misin\u001b[49m([\u001b[38;5;241m237\u001b[39m, \u001b[38;5;241m236\u001b[39m, \u001b[38;5;241m161\u001b[39m, \u001b[38;5;241m162\u001b[39m, \u001b[38;5;241m163\u001b[39m, \u001b[38;5;241m164\u001b[39m, \u001b[38;5;241m186\u001b[39m]))\n\u001b[1;32m      5\u001b[0m     average_distance_pl \u001b[38;5;241m=\u001b[39m manhattan_pl[\u001b[38;5;124m\"\u001b[39m\u001b[38;5;124mtrip_distance\u001b[39m\u001b[38;5;124m\"\u001b[39m]\u001b[38;5;241m.\u001b[39mmean()\n",
      "\u001b[0;31mAttributeError\u001b[0m: 'Expr' object has no attribute 'isin'"
     ]
    }
   ],
   "source": [
    "print(\"Polars:\", timeit.timeit(mean_test_speed_pl, number=10))\n",
    "print(\"Pandas 2.0.0:\", timeit.timeit(mean_test_speed_pd, number=10))"
   ]
  }
 ],
 "metadata": {
  "kernelspec": {
   "display_name": "Python 3 (ipykernel)",
   "language": "python",
   "name": "python3"
  },
  "language_info": {
   "codemirror_mode": {
    "name": "ipython",
    "version": 3
   },
   "file_extension": ".py",
   "mimetype": "text/x-python",
   "name": "python",
   "nbconvert_exporter": "python",
   "pygments_lexer": "ipython3",
   "version": "3.10.4"
  }
 },
 "nbformat": 4,
 "nbformat_minor": 5
}
