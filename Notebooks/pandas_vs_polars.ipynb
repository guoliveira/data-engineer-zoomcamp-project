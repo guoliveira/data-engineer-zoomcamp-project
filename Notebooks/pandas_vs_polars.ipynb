{
 "cells": [
  {
   "cell_type": "code",
   "execution_count": 1,
   "id": "3b9b3181",
   "metadata": {},
   "outputs": [],
   "source": [
    "import pandas as pd\n",
    "import time\n",
    "import polars as pl"
   ]
  },
  {
   "cell_type": "code",
   "execution_count": 2,
   "id": "022407f3",
   "metadata": {},
   "outputs": [
    {
     "data": {
      "text/plain": [
       "'2.0.0rc0'"
      ]
     },
     "execution_count": 2,
     "metadata": {},
     "output_type": "execute_result"
    }
   ],
   "source": [
    "pd.__version__"
   ]
  },
  {
   "cell_type": "code",
   "execution_count": 6,
   "id": "53713518",
   "metadata": {},
   "outputs": [],
   "source": [
    "def pd_read_csv():\n",
    "    start_time = time.perf_counter()\n",
    "    df= pd.read_csv(\"yellow_tripdata_2021-01.csv.gz\")\n",
    "    print(time.perf_counter() - start_time)\n",
    "    return df"
   ]
  },
  {
   "cell_type": "code",
   "execution_count": 3,
   "id": "e9192c4f",
   "metadata": {},
   "outputs": [],
   "source": [
    "def pl_read_csv():\n",
    "    start_time = time.perf_counter()\n",
    "    df= pl.read_csv(\"yellow_tripdata_2021-01.csv.gz\")\n",
    "    print(time.perf_counter() - start_time)\n",
    "    return df"
   ]
  },
  {
   "cell_type": "code",
   "execution_count": 4,
   "id": "aeff3f1d",
   "metadata": {},
   "outputs": [
    {
     "name": "stdout",
     "output_type": "stream",
     "text": [
      "3.06687167400014\n"
     ]
    }
   ],
   "source": [
    "df_pl = pl_read_csv()"
   ]
  },
  {
   "cell_type": "code",
   "execution_count": null,
   "id": "e4eb53d4",
   "metadata": {},
   "outputs": [],
   "source": [
    "df_pd = pd_read_csv()"
   ]
  },
  {
   "cell_type": "code",
   "execution_count": 6,
   "id": "68ee4eac",
   "metadata": {},
   "outputs": [
    {
     "name": "stdout",
     "output_type": "stream",
     "text": [
      "shape: (1369765, 18)\n",
      "┌──────────┬────────────┬────────────┬────────────┬─────┬────────────┬────────────┬────────────┬────────────┐\n",
      "│ VendorID ┆ tpep_picku ┆ tpep_dropo ┆ passenger_ ┆ ... ┆ tolls_amou ┆ improvemen ┆ total_amou ┆ congestion │\n",
      "│ ---      ┆ p_datetime ┆ ff_datetim ┆ count      ┆     ┆ nt         ┆ t_surcharg ┆ nt         ┆ _surcharge │\n",
      "│ i64      ┆ ---        ┆ e          ┆ ---        ┆     ┆ ---        ┆ e          ┆ ---        ┆ ---        │\n",
      "│          ┆ str        ┆ ---        ┆ i64        ┆     ┆ f64        ┆ ---        ┆ f64        ┆ f64        │\n",
      "│          ┆            ┆ str        ┆            ┆     ┆            ┆ f64        ┆            ┆            │\n",
      "╞══════════╪════════════╪════════════╪════════════╪═════╪════════════╪════════════╪════════════╪════════════╡\n",
      "│ 1        ┆ 2021-01-01 ┆ 2021-01-01 ┆ 1          ┆ ... ┆ 0.0        ┆ 0.3        ┆ 11.8       ┆ 2.5        │\n",
      "│          ┆ 00:30:10   ┆ 00:36:12   ┆            ┆     ┆            ┆            ┆            ┆            │\n",
      "│ 1        ┆ 2021-01-01 ┆ 2021-01-01 ┆ 1          ┆ ... ┆ 0.0        ┆ 0.3        ┆ 4.3        ┆ 0.0        │\n",
      "│          ┆ 00:51:20   ┆ 00:52:19   ┆            ┆     ┆            ┆            ┆            ┆            │\n",
      "│ 1        ┆ 2021-01-01 ┆ 2021-01-01 ┆ 1          ┆ ... ┆ 0.0        ┆ 0.3        ┆ 51.95      ┆ 0.0        │\n",
      "│          ┆ 00:43:30   ┆ 01:11:06   ┆            ┆     ┆            ┆            ┆            ┆            │\n",
      "│ 1        ┆ 2021-01-01 ┆ 2021-01-01 ┆ 0          ┆ ... ┆ 0.0        ┆ 0.3        ┆ 36.35      ┆ 0.0        │\n",
      "│          ┆ 00:15:48   ┆ 00:31:01   ┆            ┆     ┆            ┆            ┆            ┆            │\n",
      "│ ...      ┆ ...        ┆ ...        ┆ ...        ┆ ... ┆ ...        ┆ ...        ┆ ...        ┆ ...        │\n",
      "│ null     ┆ 2021-01-25 ┆ 2021-01-25 ┆ null       ┆ ... ┆ 0.0        ┆ 0.3        ┆ 30.22      ┆ 0.0        │\n",
      "│          ┆ 08:34:00   ┆ 09:04:00   ┆            ┆     ┆            ┆            ┆            ┆            │\n",
      "│ null     ┆ 2021-01-25 ┆ 2021-01-25 ┆ null       ┆ ... ┆ 0.0        ┆ 0.3        ┆ 28.84      ┆ 0.0        │\n",
      "│          ┆ 08:37:00   ┆ 08:53:00   ┆            ┆     ┆            ┆            ┆            ┆            │\n",
      "│ null     ┆ 2021-01-25 ┆ 2021-01-25 ┆ null       ┆ ... ┆ 0.0        ┆ 0.3        ┆ 31.79      ┆ 0.0        │\n",
      "│          ┆ 08:28:00   ┆ 08:50:00   ┆            ┆     ┆            ┆            ┆            ┆            │\n",
      "│ null     ┆ 2021-01-25 ┆ 2021-01-25 ┆ null       ┆ ... ┆ 0.0        ┆ 0.3        ┆ 24.31      ┆ 0.0        │\n",
      "│          ┆ 08:38:00   ┆ 08:50:00   ┆            ┆     ┆            ┆            ┆            ┆            │\n",
      "└──────────┴────────────┴────────────┴────────────┴─────┴────────────┴────────────┴────────────┴────────────┘\n"
     ]
    }
   ],
   "source": [
    "print(df_pl)"
   ]
  },
  {
   "cell_type": "code",
   "execution_count": 3,
   "id": "90a267df",
   "metadata": {},
   "outputs": [
    {
     "name": "stdout",
     "output_type": "stream",
     "text": [
      "--2023-03-09 11:17:24--  https://d37ci6vzurychx.cloudfront.net/trip-data/yellow_tripdata_2021-01.parquet\n",
      "Resolving d37ci6vzurychx.cloudfront.net (d37ci6vzurychx.cloudfront.net)... 52.222.137.206, 52.222.137.56, 52.222.137.90, ...\n",
      "Connecting to d37ci6vzurychx.cloudfront.net (d37ci6vzurychx.cloudfront.net)|52.222.137.206|:443... connected.\n",
      "HTTP request sent, awaiting response... 200 OK\n",
      "Length: 21686067 (21M) [application/x-www-form-urlencoded]\n",
      "Saving to: ‘yellow_tripdata_2021-01.parquet’\n",
      "\n",
      "yellow_tripdata_202 100%[===================>]  20.68M  60.6MB/s    in 0.3s    \n",
      "\n",
      "2023-03-09 11:17:24 (60.6 MB/s) - ‘yellow_tripdata_2021-01.parquet’ saved [21686067/21686067]\n",
      "\n"
     ]
    }
   ],
   "source": [
    "!wget  https://d37ci6vzurychx.cloudfront.net/trip-data/yellow_tripdata_2021-01.parquet"
   ]
  },
  {
   "cell_type": "code",
   "execution_count": 2,
   "id": "f8e18905",
   "metadata": {},
   "outputs": [],
   "source": [
    "def pd_read_parquet():\n",
    "    start_time = time.perf_counter()\n",
    "    df = pd.read_parquet(\"yellow_tripdata_2021-01.parquet\")\n",
    "    print(time.perf_counter() - start_time)\n",
    "    return df"
   ]
  },
  {
   "cell_type": "code",
   "execution_count": 7,
   "id": "bbcefa17",
   "metadata": {},
   "outputs": [],
   "source": [
    "def pl_read_parquet():\n",
    "    start_time = time.perf_counter()\n",
    "    df = pl.read_parquet(\"yellow_tripdata_2021-01.parquet\")\n",
    "    print(time.perf_counter() - start_time)\n",
    "    return df"
   ]
  },
  {
   "cell_type": "code",
   "execution_count": 3,
   "id": "62180f23",
   "metadata": {},
   "outputs": [
    {
     "name": "stdout",
     "output_type": "stream",
     "text": [
      "1.5505878009998924\n"
     ]
    }
   ],
   "source": [
    "df_pd = pd_read_parquet()"
   ]
  },
  {
   "cell_type": "code",
   "execution_count": 8,
   "id": "a2a9b297",
   "metadata": {},
   "outputs": [
    {
     "name": "stdout",
     "output_type": "stream",
     "text": [
      "1.1147888950004017\n"
     ]
    }
   ],
   "source": [
    "df_pl = pl_read_parquet()"
   ]
  },
  {
   "cell_type": "code",
   "execution_count": 4,
   "id": "e5ecaebe",
   "metadata": {},
   "outputs": [],
   "source": [
    "# Pandas    \n",
    "df_pd = pd_read_parquet()\n",
    "def mean_test_speed_pd():\n",
    "    manhattan_pd= df_pd[['PULocationID', 'trip_distance']].groupby('PULocationID').mean()\n",
    "    return manhattan_pd"
   ]
  },
  {
   "cell_type": "code",
   "execution_count": null,
   "id": "bfe35434",
   "metadata": {},
   "outputs": [],
   "source": []
  },
  {
   "cell_type": "code",
   "execution_count": 1,
   "id": "b3d24f27",
   "metadata": {},
   "outputs": [
    {
     "ename": "NameError",
     "evalue": "name 'mean_test_speed_pd' is not defined",
     "output_type": "error",
     "traceback": [
      "\u001b[0;31m---------------------------------------------------------------------------\u001b[0m",
      "\u001b[0;31mNameError\u001b[0m                                 Traceback (most recent call last)",
      "Cell \u001b[0;32mIn[1], line 1\u001b[0m\n\u001b[0;32m----> 1\u001b[0m \u001b[38;5;28mprint\u001b[39m(\u001b[43mmean_test_speed_pd\u001b[49m())\n",
      "\u001b[0;31mNameError\u001b[0m: name 'mean_test_speed_pd' is not defined"
     ]
    }
   ],
   "source": [
    "print(mean_test_speed_pd())"
   ]
  },
  {
   "cell_type": "code",
   "execution_count": 5,
   "id": "8681d1a1",
   "metadata": {},
   "outputs": [],
   "source": [
    "# Polars\n",
    "df_pl = pl_read_parquet()\n",
    "def mean_test_speed_pl():\n",
    "    manhattan_pl= df_pl[['PULocationID', 'trip_distance']].groupby('PULocationID').mean()\n",
    "    return manhattan_pl\n",
    "        "
   ]
  },
  {
   "cell_type": "code",
   "execution_count": 6,
   "id": "ea6755a9",
   "metadata": {},
   "outputs": [
    {
     "name": "stdout",
     "output_type": "stream",
     "text": [
      "Polars: 0.7826037160000396\n"
     ]
    }
   ],
   "source": [
    "print(\"Polars:\", timeit.timeit(mean_test_speed_pl, number=10))\n"
   ]
  },
  {
   "cell_type": "code",
   "execution_count": 7,
   "id": "d185efd3",
   "metadata": {},
   "outputs": [
    {
     "name": "stdout",
     "output_type": "stream",
     "text": [
      "shape: (258, 2)\n",
      "┌──────────────┬───────────────┐\n",
      "│ PULocationID ┆ trip_distance │\n",
      "│ ---          ┆ ---           │\n",
      "│ i64          ┆ f64           │\n",
      "╞══════════════╪═══════════════╡\n",
      "│ 256          ┆ 4.538795      │\n",
      "│ 64           ┆ 12.65942      │\n",
      "│ 128          ┆ 8.7015        │\n",
      "│ 192          ┆ 5.770086      │\n",
      "│ ...          ┆ ...           │\n",
      "│ 93           ┆ 9.651068      │\n",
      "│ 29           ┆ 8.784188      │\n",
      "│ 157          ┆ 6.507658      │\n",
      "│ 221          ┆ 13.065        │\n",
      "└──────────────┴───────────────┘\n"
     ]
    }
   ],
   "source": [
    "print(mean_test_speed_pl())"
   ]
  },
  {
   "cell_type": "code",
   "execution_count": null,
   "id": "13afe300",
   "metadata": {},
   "outputs": [],
   "source": []
  }
 ],
 "metadata": {
  "kernelspec": {
   "display_name": "Python 3 (ipykernel)",
   "language": "python",
   "name": "python3"
  },
  "language_info": {
   "codemirror_mode": {
    "name": "ipython",
    "version": 3
   },
   "file_extension": ".py",
   "mimetype": "text/x-python",
   "name": "python",
   "nbconvert_exporter": "python",
   "pygments_lexer": "ipython3",
   "version": "3.10.4"
  }
 },
 "nbformat": 4,
 "nbformat_minor": 5
}
